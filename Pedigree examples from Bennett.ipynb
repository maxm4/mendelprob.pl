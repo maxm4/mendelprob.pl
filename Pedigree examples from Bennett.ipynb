{
 "cells": [
  {
   "cell_type": "markdown",
   "id": "b868066d",
   "metadata": {},
   "source": [
    "# Pedigree examples from Bennett, 2010"
   ]
  },
  {
   "cell_type": "markdown",
   "id": "a1d61cb2",
   "metadata": {},
   "source": [
    "Examples are assumed to be in recessive hypothesis unless said otherwise."
   ]
  },
  {
   "cell_type": "markdown",
   "id": "ce97b730",
   "metadata": {},
   "source": [
    "# Bob Johnson's case"
   ]
  },
  {
   "cell_type": "markdown",
   "id": "127cd3ae",
   "metadata": {},
   "source": [
    "Bennett 2010, p. 317-320, Fig. A.2."
   ]
  },
  {
   "cell_type": "markdown",
   "id": "28fb1c76",
   "metadata": {},
   "source": [
    "## Dominant hypothesis"
   ]
  },
  {
   "cell_type": "code",
   "execution_count": 67,
   "id": "8da99285",
   "metadata": {},
   "outputs": [],
   "source": [
    "%%capture output\n",
    "%%script ./problog-cli.py --knowledge ddnnf --dont-propagate-evidence\n",
    "\n",
    ":- consult('mendelprob.pl').\n",
    "    \n",
    "%%% Prevalence of studied allele %%%\n",
    "prevalence(\"a\", 999/1000).\n",
    "                        \n",
    "%%% Define generations of interest %%%\n",
    "generation(I) :- between(0, 2, I), integer(I).\n",
    "    \n",
    "%%% Evidences %%%\n",
    "evidence(\\+ m_show(0, \"A\")). % Father of Ann / Georgia\n",
    "evidence(\\+ f_show(0, \"A\")). % Mother of Ann / Georgia\n",
    "evidence(\\+ m_show(1, \"A\")). % Jim / Father of Sam\n",
    "evidence(\\+ f_show(1, \"A\")). % Ann / Georgia\n",
    "evidence(f_family_descendant(1)). % Ann / Georgia\n",
    "evidence(m_family_descendant(2)). % Bob / Sam\n",
    "evidence(m_show(2, \"A\")). % Bob / Sam\n",
    "\n",
    "%%% Queries %%%\n",
    "query(disease(_)).\n",
    "query(f_carry(I, _)) :- generation(I), I>=0, I<2.\n",
    "query(f_show(I, _)) :- generation(I), I>=0, I<2.\n",
    "query(m_carry(I, _)) :- generation(I), I>=0.\n",
    "query(m_show(I, _)) :- generation(I), I>=0.\n",
    "query(m_family_descendant(I)) :- generation(I), I>=0.\n",
    "query(f_family_descendant(I)) :- generation(I), I>=0."
   ]
  },
  {
   "cell_type": "code",
   "execution_count": 68,
   "id": "0b3431fe",
   "metadata": {},
   "outputs": [
    {
     "name": "stdout",
     "output_type": "stream",
     "text": [
      "InconsistentEvidenceError: Inconsistent evidence detected during evidence evaluation.\n",
      "\n"
     ]
    }
   ],
   "source": [
    "for line in str(output).split('\\n'):\n",
    "    if not line.strip().endswith(':\\t0'):\n",
    "        print(line)"
   ]
  },
  {
   "cell_type": "markdown",
   "id": "3f4e99c5",
   "metadata": {},
   "source": [
    "## Recessive hypothesis"
   ]
  },
  {
   "cell_type": "code",
   "execution_count": 59,
   "id": "a2809776",
   "metadata": {},
   "outputs": [],
   "source": [
    "%%capture output\n",
    "%%script ./problog-cli.py --knowledge ddnnf --dont-propagate-evidence\n",
    "\n",
    ":- consult('mendelprob.pl').\n",
    "    \n",
    "%%% Prevalence of studied allele %%%\n",
    "prevalence(\"a\", 1/1000).\n",
    "                        \n",
    "%%% Define generations of interest %%%\n",
    "generation(I) :- between(0, 2, I), integer(I).\n",
    "    \n",
    "%%% Evidences %%%\n",
    "evidence(\\+ m_show(0, \"a\")). % Father of Ann / Georgia\n",
    "evidence(\\+ f_show(0, \"a\")). % Mother of Ann / Georgia\n",
    "evidence(\\+ m_show(1, \"a\")). % Jim / Father of Sam\n",
    "evidence(\\+ f_show(1, \"a\")). % Ann / Georgia\n",
    "evidence(f_family_descendant(1)). % Ann / Georgia\n",
    "evidence(m_family_descendant(2)). % Bob / Sam\n",
    "evidence(m_show(2, \"a\")). % Bob / Sam\n",
    "\n",
    "%%% Queries %%%\n",
    "query(disease(_)).\n",
    "query(f_carry(I, _)) :- generation(I), I>=0, I<2.\n",
    "query(f_show(I, _)) :- generation(I), I>=0, I<2.\n",
    "query(m_carry(I, _)) :- generation(I), I>=0.\n",
    "query(m_show(I, _)) :- generation(I), I>=0.\n",
    "query(m_family_descendant(I)) :- generation(I), I>=0.\n",
    "query(f_family_descendant(I)) :- generation(I), I>=0."
   ]
  },
  {
   "cell_type": "code",
   "execution_count": 60,
   "id": "0f188220",
   "metadata": {},
   "outputs": [
    {
     "name": "stdout",
     "output_type": "stream",
     "text": [
      "       disease(\"auto\"):\t0.001996008\n",
      "          disease(\"x\"):\t0.99800399\n",
      "       f_carry(0,\"AA\"):\t0.00099700599\n",
      "       f_carry(0,\"Aa\"):\t0.99900299\n",
      "       f_carry(1,\"Aa\"):\t1         \n",
      "f_family_descendant(1):\t1         \n",
      "         f_show(0,\"A\"):\t1         \n",
      "         f_show(1,\"A\"):\t1         \n",
      "       m_carry(0,\"A-\"):\t0.99800399\n",
      "       m_carry(0,\"AA\"):\t0.00099700599\n",
      "       m_carry(0,\"Aa\"):\t0.000999002\n",
      "       m_carry(1,\"A-\"):\t0.99800399\n",
      "       m_carry(1,\"Aa\"):\t0.001996008\n",
      "       m_carry(2,\"a-\"):\t0.99800399\n",
      "       m_carry(2,\"aa\"):\t0.001996008\n",
      "m_family_descendant(2):\t1         \n",
      "         m_show(0,\"A\"):\t1         \n",
      "         m_show(1,\"A\"):\t1         \n",
      "         m_show(2,\"a\"):\t1         \n",
      "\n"
     ]
    }
   ],
   "source": [
    "for line in str(output).split('\\n'):\n",
    "    if not line.strip().endswith(':\\t0'):\n",
    "        print(line)"
   ]
  },
  {
   "cell_type": "code",
   "execution_count": 91,
   "id": "a1797633",
   "metadata": {},
   "outputs": [],
   "source": [
    "%%capture output\n",
    "%%script ./problog-cli.py --knowledge ddnnf --dont-propagate-evidence\n",
    "\n",
    ":- consult('mendelprob.pl').\n",
    "    \n",
    "%%% Prevalence of studied allele %%%\n",
    "prevalence(\"a\", 1/1000).\n",
    "                        \n",
    "%%% Define generations of interest %%%\n",
    "generation(I) :- between(0, 1, I), integer(I).\n",
    "    \n",
    "%%% Evidences %%%\n",
    "evidence(\\+ m_show(0, \"a\")). % Father of John\n",
    "evidence(\\+ f_show(0, \"a\")). % Mother of John\n",
    "evidence(m_show(1, \"a\")). % John\n",
    "evidence(m_family_descendant(1)). % John\n",
    "\n",
    "%%% Queries %%%\n",
    "query(disease(_)).\n",
    "query(f_carry(I, _)) :- generation(I), I>=0, I<2.\n",
    "query(f_show(I, _)) :- generation(I), I>=0, I<2.\n",
    "query(m_carry(I, _)) :- generation(I), I>=0.\n",
    "query(m_show(I, _)) :- generation(I), I>=0.\n",
    "query(m_family_descendant(I)) :- generation(I), I>=0.\n",
    "query(f_family_descendant(I)) :- generation(I), I>=0."
   ]
  },
  {
   "cell_type": "code",
   "execution_count": 92,
   "id": "045b0b07",
   "metadata": {},
   "outputs": [
    {
     "name": "stdout",
     "output_type": "stream",
     "text": [
      "       disease(\"auto\"):\t0.000999001\n",
      "          disease(\"x\"):\t0.999001  \n",
      "       f_carry(0,\"Aa\"):\t1         \n",
      "       f_carry(1,\"AA\"):\t0.998001  \n",
      "       f_carry(1,\"Aa\"):\t0.001998  \n",
      "       f_carry(1,\"aa\"):\t1e-06     \n",
      "         f_show(0,\"A\"):\t1         \n",
      "         f_show(1,\"A\"):\t0.999999  \n",
      "         f_show(1,\"a\"):\t1e-06     \n",
      "       m_carry(0,\"A-\"):\t0.999001  \n",
      "       m_carry(0,\"Aa\"):\t0.000999001\n",
      "       m_carry(1,\"a-\"):\t0.999001  \n",
      "       m_carry(1,\"aa\"):\t0.000999001\n",
      "m_family_descendant(1):\t1         \n",
      "         m_show(0,\"A\"):\t1         \n",
      "         m_show(1,\"a\"):\t1         \n",
      "\n"
     ]
    }
   ],
   "source": [
    "for line in str(output).split('\\n'):\n",
    "    if not line.strip().endswith(':\\t0'):\n",
    "        print(line)"
   ]
  },
  {
   "cell_type": "markdown",
   "id": "cf3010cb",
   "metadata": {},
   "source": [
    "## With prior knowledge that genotype of F0 is 1"
   ]
  },
  {
   "cell_type": "code",
   "execution_count": 93,
   "id": "034730d0",
   "metadata": {},
   "outputs": [],
   "source": [
    "%%capture output\n",
    "%%script ./problog-cli.py --knowledge ddnnf --dont-propagate-evidence\n",
    "\n",
    ":- consult('mendelprob.pl').\n",
    "    \n",
    "%%% Prevalence of studied allele %%%\n",
    "prevalence(\"a\", 1/1000).\n",
    "                        \n",
    "%%% Define generations of interest %%%\n",
    "generation(I) :- between(0, 2, I), integer(I).\n",
    "    \n",
    "%%% Evidences %%%\n",
    "evidence(\\+ m_show(0, \"a\")). % Father of Ann\n",
    "evidence(\\+ f_show(0, \"a\")). % Mother of Ann\n",
    "evidence(\\+ m_show(1, \"a\")). % Jim\n",
    "evidence(\\+ f_show(1, \"a\")). % Ann\n",
    "evidence(f_carry(0,\"Aa\")). % From pedigree of John\n",
    "evidence(f_family_descendant(1)). % Ann\n",
    "evidence(m_family_descendant(2)). % Bob\n",
    "evidence(m_show(2, \"a\")). % Bob\n",
    "\n",
    "%%% Queries %%%\n",
    "query(disease(_)).\n",
    "query(f_carry(I, _)) :- generation(I), I>=0, I<2.\n",
    "query(f_show(I, _)) :- generation(I), I>=0, I<2.\n",
    "query(m_carry(I, _)) :- generation(I), I>=0.\n",
    "query(m_show(I, _)) :- generation(I), I>=0.\n",
    "query(m_family_descendant(I)) :- generation(I), I>=0.\n",
    "query(f_family_descendant(I)) :- generation(I), I>=0."
   ]
  },
  {
   "cell_type": "code",
   "execution_count": 94,
   "id": "7ca9f087",
   "metadata": {},
   "outputs": [
    {
     "name": "stdout",
     "output_type": "stream",
     "text": [
      "       disease(\"auto\"):\t0.000999999\n",
      "          disease(\"x\"):\t0.999     \n",
      "       f_carry(0,\"Aa\"):\t1         \n",
      "       f_carry(1,\"Aa\"):\t1         \n",
      "f_family_descendant(1):\t1         \n",
      "         f_show(0,\"A\"):\t1         \n",
      "         f_show(1,\"A\"):\t1         \n",
      "       m_carry(0,\"A-\"):\t0.999     \n",
      "       m_carry(0,\"AA\"):\t0.000998001\n",
      "       m_carry(0,\"Aa\"):\t1.998e-06 \n",
      "       m_carry(1,\"A-\"):\t0.999     \n",
      "       m_carry(1,\"Aa\"):\t0.000999999\n",
      "       m_carry(2,\"a-\"):\t0.999     \n",
      "       m_carry(2,\"aa\"):\t0.000999999\n",
      "m_family_descendant(2):\t1         \n",
      "         m_show(0,\"A\"):\t1         \n",
      "         m_show(1,\"A\"):\t1         \n",
      "         m_show(2,\"a\"):\t1         \n",
      "\n"
     ]
    }
   ],
   "source": [
    "for line in str(output).split('\\n'):\n",
    "    if not line.strip().endswith(':\\t0'):\n",
    "        print(line)"
   ]
  },
  {
   "cell_type": "markdown",
   "id": "f23d5973",
   "metadata": {},
   "source": [
    "## Comparing to pedprobr"
   ]
  },
  {
   "cell_type": "code",
   "execution_count": 77,
   "id": "271c4524",
   "metadata": {},
   "outputs": [],
   "source": [
    "%%capture output\n",
    "%%script ./problog-cli.py --knowledge ddnnf --dont-propagate-evidence \n",
    "\n",
    ":- consult('mendelprob.pl').\n",
    "    \n",
    "%%% Prevalence of studied allele %%%\n",
    "prevalence(\"a\", 1/1000).\n",
    "                        \n",
    "%%% Define generations of interest %%%\n",
    "lastgen(3). generation(I) :- lastgen(G), between(0, G, I), integer(I).\n",
    "    \n",
    "%%% Evidences %%%\n",
    "evidence(disease(\"x\")).\n",
    "evidence(f_carry(1, \"Aa\")). % Mother of Ann\n",
    "evidence(m_carry(1, \"A-\")). % Father of Ann\n",
    "evidence(m_carry(2, \"A-\")). % Jim / Father of Bob\n",
    "evidence(f_carry(1, \"Aa\")). % Mother of Ann\n",
    "evidence(f_family_descendant(1)). % Ann\n",
    "evidence(f_family_descendant(2)). % Ann\n",
    "evidence(m_family_descendant(3)). % Bob\n",
    "evidence(m_carry(3, \"a-\")). % Bob\n",
    "\n",
    "%%% Queries %%%\n",
    "query(disease(_)).\n",
    "query(f_carry(I, _)) :- generation(I), I<3.\n",
    "query(f_show(I, _)) :- generation(I), I<3.\n",
    "query(m_carry(I, _)) :- generation(I).\n",
    "query(m_show(I, _)) :- generation(I).\n",
    "query(m_family_descendant(I)) :- generation(I).\n",
    "query(f_family_descendant(I)) :- generation(I)."
   ]
  },
  {
   "cell_type": "code",
   "execution_count": 78,
   "id": "d203b497",
   "metadata": {},
   "outputs": [
    {
     "name": "stdout",
     "output_type": "stream",
     "text": [
      "          disease(\"x\"):\t1         \n",
      "       f_carry(0,\"AA\"):\t0.4995    \n",
      "       f_carry(0,\"Aa\"):\t0.5       \n",
      "       f_carry(0,\"aa\"):\t0.0005    \n",
      "       f_carry(1,\"Aa\"):\t1         \n",
      "       f_carry(2,\"Aa\"):\t1         \n",
      "f_family_descendant(1):\t1         \n",
      "f_family_descendant(2):\t1         \n",
      "         f_show(0,\"A\"):\t0.9995    \n",
      "         f_show(0,\"a\"):\t0.0005    \n",
      "         f_show(1,\"A\"):\t1         \n",
      "         f_show(2,\"A\"):\t1         \n",
      "       m_carry(0,\"A-\"):\t0.5       \n",
      "       m_carry(0,\"a-\"):\t0.5       \n",
      "       m_carry(1,\"A-\"):\t1         \n",
      "       m_carry(2,\"A-\"):\t1         \n",
      "       m_carry(3,\"a-\"):\t1         \n",
      "m_family_descendant(3):\t1         \n",
      "         m_show(0,\"A\"):\t0.5       \n",
      "         m_show(0,\"a\"):\t0.5       \n",
      "         m_show(1,\"A\"):\t1         \n",
      "         m_show(2,\"A\"):\t1         \n",
      "         m_show(3,\"a\"):\t1         \n",
      "\n"
     ]
    }
   ],
   "source": [
    "for line in str(output).split('\\n'):\n",
    "    if not line.strip().endswith(':\\t0'):\n",
    "        print(line)"
   ]
  },
  {
   "cell_type": "markdown",
   "id": "48d69eff",
   "metadata": {},
   "source": [
    "# Rhonda's family"
   ]
  },
  {
   "cell_type": "markdown",
   "id": "0923ef63",
   "metadata": {},
   "source": [
    "Bennett 2010, p. 319-322, Fig. A.3."
   ]
  },
  {
   "cell_type": "markdown",
   "id": "f9dac895",
   "metadata": {},
   "source": [
    "### Assume genotype, autosomal disorder and no prior knowledge on parents"
   ]
  },
  {
   "cell_type": "code",
   "execution_count": 33,
   "id": "f86de007",
   "metadata": {},
   "outputs": [],
   "source": [
    "%%capture output\n",
    "%%script ./problog-cli.py --knowledge ddnnf --dont-propagate-evidence\n",
    "\n",
    ":- consult('mendelprob.pl').\n",
    "    \n",
    "%%% Prevalence of studied allele %%%\n",
    "prevalence(\"a\", 1/1000).\n",
    "                        \n",
    "%%% Define generations of interest %%%\n",
    "generation(I) :- between(0, 3, I), integer(I).\n",
    "    \n",
    "%%% Evidences %%%\n",
    "\n",
    "evidence(disease(\"auto\")). % Cystic Fibrosis\n",
    "\n",
    "evidence(f_carry(1, \"Aa\")). % Mother of Rhonda\n",
    "evidence(m_carry(1, \"Aa\")). % Father of Rhonda\n",
    "\n",
    "evidence(f_family_descendant(2)). % Rhonda\n",
    "evidence(f_show(2, \"a\")). % Rhonda\n",
    "evidence(f_carry(2, \"aa\")). % Rhonda\n",
    "\n",
    "evidence(f_family_descendant(3)). % Daughter of Rhonda\n",
    "\n",
    "%%% Queries %%%\n",
    "query(disease(_)).\n",
    "query(m_carry(I, _)) :- generation(I), I>=0.\n",
    "query(m_show(I, _)) :- generation(I), I>=0.\n",
    "query(f_carry(I, _)) :- generation(I), I>=0.\n",
    "query(f_show(I, _)) :- generation(I), I>=0.\n",
    "query(m_family_descendant(I)) :- generation(I), I>=0.\n",
    "query(f_family_descendant(I)) :- generation(I), I>=0."
   ]
  },
  {
   "cell_type": "code",
   "execution_count": 34,
   "id": "6b2fdb95",
   "metadata": {},
   "outputs": [
    {
     "name": "stdout",
     "output_type": "stream",
     "text": [
      "       disease(\"auto\"):\t1         \n",
      "       f_carry(0,\"AA\"):\t0.4995    \n",
      "       f_carry(0,\"Aa\"):\t0.5       \n",
      "       f_carry(0,\"aa\"):\t0.0005    \n",
      "       f_carry(1,\"Aa\"):\t1         \n",
      "       f_carry(2,\"aa\"):\t1         \n",
      "       f_carry(3,\"Aa\"):\t0.999     \n",
      "       f_carry(3,\"aa\"):\t0.001     \n",
      "f_family_descendant(1):\t0.5       \n",
      "f_family_descendant(2):\t1         \n",
      "f_family_descendant(3):\t1         \n",
      "         f_show(0,\"A\"):\t0.9995    \n",
      "         f_show(0,\"a\"):\t0.0005    \n",
      "         f_show(1,\"A\"):\t1         \n",
      "         f_show(2,\"a\"):\t1         \n",
      "         f_show(3,\"A\"):\t0.999     \n",
      "         f_show(3,\"a\"):\t0.001     \n",
      "       m_carry(0,\"AA\"):\t0.4995    \n",
      "       m_carry(0,\"Aa\"):\t0.5       \n",
      "       m_carry(0,\"aa\"):\t0.0005    \n",
      "       m_carry(1,\"Aa\"):\t1         \n",
      "       m_carry(2,\"AA\"):\t0.998001  \n",
      "       m_carry(2,\"Aa\"):\t0.001998  \n",
      "       m_carry(2,\"aa\"):\t1e-06     \n",
      "       m_carry(3,\"AA\"):\t0.998001  \n",
      "       m_carry(3,\"Aa\"):\t0.001998  \n",
      "       m_carry(3,\"aa\"):\t1e-06     \n",
      "m_family_descendant(1):\t0.5       \n",
      "         m_show(0,\"A\"):\t0.9995    \n",
      "         m_show(0,\"a\"):\t0.0005    \n",
      "         m_show(1,\"A\"):\t1         \n",
      "         m_show(2,\"A\"):\t0.999999  \n",
      "         m_show(2,\"a\"):\t1e-06     \n",
      "         m_show(3,\"A\"):\t0.999999  \n",
      "         m_show(3,\"a\"):\t1e-06     \n",
      "\n"
     ]
    }
   ],
   "source": [
    "for line in str(output).split('\\n'):\n",
    "    if not line.strip().endswith(':\\t0'):\n",
    "        print(line)"
   ]
  },
  {
   "cell_type": "markdown",
   "id": "1215f949",
   "metadata": {},
   "source": [
    "Same results as *pedprobr*."
   ]
  },
  {
   "cell_type": "markdown",
   "id": "e83be85b",
   "metadata": {},
   "source": [
    "### Assume non-illness of family members as prior knowledge"
   ]
  },
  {
   "cell_type": "code",
   "execution_count": 43,
   "id": "21e902a9",
   "metadata": {},
   "outputs": [],
   "source": [
    "%%capture output\n",
    "%%script ./problog-cli.py --knowledge ddnnf --dont-propagate-evidence\n",
    "\n",
    ":- consult('mendelprob.pl').\n",
    "    \n",
    "%%% Prevalence of studied allele %%%\n",
    "prevalence(\"a\", 1/1000).\n",
    "                        \n",
    "%%% Define generations of interest %%%\n",
    "generation(I) :- between(0, 3, I), integer(I).\n",
    "    \n",
    "%%% Evidences %%%\n",
    "\n",
    "evidence(\\+ m_show(0, \"a\")). % Either Grandfather\n",
    "evidence(\\+ f_show(0, \"a\")). % Either Grandmother\n",
    "evidence(\\+ m_show(1, \"a\")). % Father of Rhonda\n",
    "evidence(\\+ f_show(1, \"a\")). % Mother of Rhonda\n",
    "\n",
    "evidence(f_family_descendant(2)). % Rhonda\n",
    "evidence(f_show(2, \"a\")). % Rhonda\n",
    "evidence(f_carry(2, \"aa\")). % Rhonda\n",
    "\n",
    "evidence(\\+ m_show(2, \"a\")). % Ron\n",
    "\n",
    "evidence(disease(\"auto\")). % Cystic Fibrosis\n",
    "\n",
    "evidence(f_family_descendant(3)). % Daughter of Rhonda\n",
    "\n",
    "%%% Queries %%%\n",
    "query(disease(_)).\n",
    "query(m_carry(I, _)) :- generation(I), I>=0, I<3.\n",
    "query(m_show(I, _)) :- generation(I), I>=0, I<3.\n",
    "query(f_carry(I, _)) :- generation(I), I>=0.\n",
    "query(f_show(I, _)) :- generation(I), I>=0.\n",
    "query(m_family_descendant(I)) :- generation(I), I>=0.\n",
    "query(f_family_descendant(I)) :- generation(I), I>=0."
   ]
  },
  {
   "cell_type": "code",
   "execution_count": 44,
   "id": "fc351ef4",
   "metadata": {},
   "outputs": [
    {
     "name": "stdout",
     "output_type": "stream",
     "text": [
      "       disease(\"auto\"):\t1         \n",
      "       f_carry(0,\"AA\"):\t0.4995    \n",
      "       f_carry(0,\"Aa\"):\t0.5005    \n",
      "       f_carry(1,\"Aa\"):\t1         \n",
      "       f_carry(2,\"aa\"):\t1         \n",
      "       f_carry(3,\"Aa\"):\t0.999001  \n",
      "       f_carry(3,\"aa\"):\t0.000999001\n",
      "f_family_descendant(1):\t0.5       \n",
      "f_family_descendant(2):\t1         \n",
      "f_family_descendant(3):\t1         \n",
      "         f_show(0,\"A\"):\t1         \n",
      "         f_show(1,\"A\"):\t1         \n",
      "         f_show(2,\"a\"):\t1         \n",
      "         f_show(3,\"A\"):\t0.999001  \n",
      "         f_show(3,\"a\"):\t0.000999001\n",
      "       m_carry(0,\"AA\"):\t0.4995    \n",
      "       m_carry(0,\"Aa\"):\t0.5005    \n",
      "       m_carry(1,\"Aa\"):\t1         \n",
      "       m_carry(2,\"AA\"):\t0.998002  \n",
      "       m_carry(2,\"Aa\"):\t0.001998002\n",
      "m_family_descendant(1):\t0.5       \n",
      "         m_show(0,\"A\"):\t1         \n",
      "         m_show(1,\"A\"):\t1         \n",
      "         m_show(2,\"A\"):\t1         \n",
      "\n"
     ]
    }
   ],
   "source": [
    "for line in str(output).split('\\n'):\n",
    "    if not line.strip().endswith(':\\t0'):\n",
    "        print(line)"
   ]
  },
  {
   "cell_type": "markdown",
   "id": "7fbbbd16",
   "metadata": {},
   "source": [
    "Trailing 001 and 002 in M2 and F3's probabilities should be Python rounding errors."
   ]
  },
  {
   "cell_type": "markdown",
   "id": "999c2dbb",
   "metadata": {},
   "source": [
    "Infers that each parent of Rhonda should have a healthy allele and an ill allele."
   ]
  },
  {
   "cell_type": "markdown",
   "id": "83d8ad65",
   "metadata": {},
   "source": [
    "# Billy's undiagnosed mental disability"
   ]
  },
  {
   "cell_type": "markdown",
   "id": "c5c94186",
   "metadata": {},
   "source": [
    "Bennett 2010, p. 313-317, Fig. A.1."
   ]
  },
  {
   "cell_type": "code",
   "execution_count": 123,
   "id": "fa20ecee",
   "metadata": {},
   "outputs": [],
   "source": [
    "%%capture output\n",
    "%%script ./problog-cli.py --knowledge ddnnf --dont-propagate-evidence\n",
    "\n",
    ":- consult('mendelprob.pl').\n",
    "    \n",
    "%%% Prevalence of studied allele %%%\n",
    "prevalence(\"a\", 1/10000).\n",
    "                        \n",
    "%%% Define generations of interest %%%\n",
    "generation(I) :- between(0, 2, I), integer(I).\n",
    "    \n",
    "%%% Evidences %%%\n",
    "evidence(\\+ f_show(0, \"a\")).\n",
    "evidence(m_show(0, \"A\")).\n",
    "evidence(\\+ f_show(1, \"a\")).\n",
    "evidence(m_show(1, \"A\")).\n",
    "evidence(m_show(2, \"a\")).\n",
    "evidence(m_family_descendant(2)).\n",
    "\n",
    "%%% Queries %%%\n",
    "query(disease(_)).\n",
    "query(f_carry(I, _)) :- generation(I), I>=0, I<2.\n",
    "query(f_show(I, _)) :- generation(I), I>=0, I<2.\n",
    "query(m_carry(I, _)) :- generation(I), I>=0.\n",
    "query(m_show(I, _)) :- generation(I), I>=0.\n",
    "query(m_family_descendant(I)) :- generation(I), I>0.\n",
    "query(f_family_descendant(I)) :- generation(I), I>0."
   ]
  },
  {
   "cell_type": "code",
   "execution_count": 124,
   "id": "17b14622",
   "metadata": {},
   "outputs": [
    {
     "name": "stdout",
     "output_type": "stream",
     "text": [
      "       disease(\"auto\"):\t0.00013331556\n",
      "          disease(\"x\"):\t0.99986668\n",
      "       f_carry(0,\"AA\"):\t0.66657778\n",
      "       f_carry(0,\"Aa\"):\t0.33342222\n",
      "       f_carry(1,\"Aa\"):\t1         \n",
      "f_family_descendant(1):\t0.33335555\n",
      "         f_show(0,\"A\"):\t1         \n",
      "         f_show(1,\"A\"):\t1         \n",
      "       m_carry(0,\"A-\"):\t0.99986668\n",
      "       m_carry(0,\"AA\"):\t6.6651113e-05\n",
      "       m_carry(0,\"Aa\"):\t6.6664445e-05\n",
      "       m_carry(1,\"A-\"):\t0.99986668\n",
      "       m_carry(1,\"Aa\"):\t0.00013331556\n",
      "       m_carry(2,\"a-\"):\t0.99986668\n",
      "       m_carry(2,\"aa\"):\t0.00013331556\n",
      "m_family_descendant(1):\t0.66664445\n",
      "m_family_descendant(2):\t1         \n",
      "         m_show(0,\"A\"):\t1         \n",
      "         m_show(1,\"A\"):\t1         \n",
      "         m_show(2,\"a\"):\t1         \n",
      "\n"
     ]
    }
   ],
   "source": [
    "for line in str(output).split('\\n'):\n",
    "    if not line.strip().endswith(':\\t0'):\n",
    "        print(line)"
   ]
  },
  {
   "cell_type": "markdown",
   "id": "f020f8d3",
   "metadata": {},
   "source": [
    "X-linked disorder is most likely. However, too few observations to be conclusive."
   ]
  },
  {
   "cell_type": "code",
   "execution_count": null,
   "id": "6e246077",
   "metadata": {},
   "outputs": [],
   "source": []
  }
 ],
 "metadata": {
  "kernelspec": {
   "display_name": "Python 3 (ipykernel)",
   "language": "python",
   "name": "python3"
  },
  "language_info": {
   "codemirror_mode": {
    "name": "ipython",
    "version": 3
   },
   "file_extension": ".py",
   "mimetype": "text/x-python",
   "name": "python",
   "nbconvert_exporter": "python",
   "pygments_lexer": "ipython3",
   "version": "3.9.13"
  }
 },
 "nbformat": 4,
 "nbformat_minor": 5
}
