{
 "cells": [
  {
   "cell_type": "markdown",
   "id": "e9413ea2",
   "metadata": {},
   "source": [
    "# Huntington Pedigrees"
   ]
  },
  {
   "cell_type": "markdown",
   "id": "3bef6140",
   "metadata": {},
   "source": [
    "At each generation the parent not shown has an healthy allele.\n",
    "\n",
    "**A:** (F0, A) -> (F1, A) -> (F2, A) -> (M3, A) -> (M4, A).\n",
    "\n",
    "**B:** (F0, A) -> (F1, A) -> (F2, A) -> (M3, A).\n",
    "\n",
    "**C:** (F0, A) -> (F1, A) -> (F2, a).\n",
    "\n",
    "**D:** (F0, A) -> (F1, A) -> (F2, A) -> (M3, a).\n",
    "\n",
    "**E:** (F0, A) -> (F1, A) -> (F2, A) -> (F3, A).\n",
    "\n",
    "**F:** (F0, A) -> (F1, A) -> (M2, a).\n",
    "\n",
    "**G:** (F0, A) -> (M1, A) -> (F2, a).\n",
    "\n",
    "**H:** (F0, A) -> (M1, A) -> (M2, a).\n",
    "\n",
    "**I:** (F0, A) -> (F1, A) -> (M2, A) -> (F3, A).\n",
    "\n",
    "**J:** (F0, A) -> (F1, A) -> (M2, A) -> (M3, A).\n",
    "\n",
    "A to J are branches of the American Huntington pedigree tree. A is the leftmost branch.\n"
   ]
  },
  {
   "cell_type": "markdown",
   "id": "9be78411",
   "metadata": {},
   "source": [
    "### A"
   ]
  },
  {
   "cell_type": "code",
   "execution_count": null,
   "id": "35e158e9",
   "metadata": {},
   "outputs": [],
   "source": [
    "%%capture output\n",
    "%%script ./problog-cli.py --knowledge ddnnf --dont-propagate-evidence\n",
    "\n",
    ":- consult('mendelprob.pl').\n",
    "    \n",
    "%%% Prevalence of studied allele %%%\n",
    "prevalence(\"a\", 9999/10000).\n",
    "                        \n",
    "%%% Define generations of interest %%%\n",
    "generation(I) :- between(0, 4, I), integer(I).\n",
    "    \n",
    "%%% Evidences %%%\n",
    "evidence(f_show(0, \"A\")).\n",
    "evidence(m_show(0, \"a\")).\n",
    "evidence(f_show(1, \"A\")).\n",
    "evidence(m_show(1, \"a\")).\n",
    "evidence(f_show(2, \"A\")). \n",
    "evidence(m_show(2, \"a\")).\n",
    "evidence(f_show(3, \"a\")). \n",
    "evidence(m_show(3, \"A\")). \n",
    "evidence(m_show(4, \"A\")).\n",
    "evidence(f_family_descendant(1)).\n",
    "evidence(f_family_descendant(2)).\n",
    "evidence(m_family_descendant(3)).\n",
    "evidence(m_family_descendant(4)).\n",
    "\n",
    "%%% Queries %%%\n",
    "query(disease(_)).\n",
    "query(f_carry(I, _)) :- generation(I), I>=0, I<4.\n",
    "query(f_show(I, _)) :- generation(I), I>=0, I<4.\n",
    "query(m_carry(I, _)) :- generation(I), I>=0.\n",
    "query(m_show(I, _)) :- generation(I), I>=0.\n",
    "query(m_family_descendant(I)) :- generation(I), I>0.\n",
    "query(f_family_descendant(I)) :- generation(I), I>0."
   ]
  },
  {
   "cell_type": "code",
   "execution_count": null,
   "id": "2b2645f9",
   "metadata": {},
   "outputs": [
    {
     "name": "stdout",
     "output_type": "stream",
     "text": [
      "       disease(\"auto\"):\t1         \n",
      "       f_carry(0,\"AA\"):\t0.0001    \n",
      "       f_carry(0,\"Aa\"):\t0.9999    \n",
      "       f_carry(1,\"Aa\"):\t1         \n",
      "       f_carry(2,\"Aa\"):\t1         \n",
      "       f_carry(3,\"aa\"):\t1         \n",
      "f_family_descendant(1):\t1         \n",
      "f_family_descendant(2):\t1         \n",
      "         f_show(0,\"A\"):\t1         \n",
      "         f_show(1,\"A\"):\t1         \n",
      "         f_show(2,\"A\"):\t1         \n",
      "         f_show(3,\"a\"):\t1         \n",
      "       m_carry(0,\"aa\"):\t1         \n",
      "       m_carry(1,\"aa\"):\t1         \n",
      "       m_carry(2,\"aa\"):\t1         \n",
      "       m_carry(3,\"Aa\"):\t1         \n",
      "       m_carry(4,\"Aa\"):\t1         \n",
      "m_family_descendant(3):\t1         \n",
      "m_family_descendant(4):\t1         \n",
      "         m_show(0,\"a\"):\t1         \n",
      "         m_show(1,\"a\"):\t1         \n",
      "         m_show(2,\"a\"):\t1         \n",
      "         m_show(3,\"A\"):\t1         \n",
      "         m_show(4,\"A\"):\t1         \n",
      "\n"
     ]
    }
   ],
   "source": [
    "for line in str(output).split('\\n'):\n",
    "    if not line.strip().endswith(':\\t0'):\n",
    "        print(line)"
   ]
  },
  {
   "cell_type": "markdown",
   "id": "0dbd75ac",
   "metadata": {},
   "source": [
    "#### Recessive"
   ]
  },
  {
   "cell_type": "code",
   "execution_count": null,
   "id": "aa0db84d",
   "metadata": {},
   "outputs": [],
   "source": [
    "%%capture output\n",
    "%%script ./problog-cli.py --knowledge ddnnf --dont-propagate-evidence\n",
    "\n",
    ":- consult('mendelprob.pl').\n",
    "    \n",
    "%%% Prevalence of studied allele %%%\n",
    "prevalence(\"a\", 1/10000).\n",
    "                        \n",
    "%%% Define generations of interest %%%\n",
    "generation(I) :- between(0, 4, I), integer(I).\n",
    "    \n",
    "%%% Evidences %%%\n",
    "evidence(f_show(0, \"a\")).\n",
    "evidence(m_show(0, \"A\")).\n",
    "evidence(f_show(1, \"a\")). \n",
    "evidence(m_show(1, \"A\")).\n",
    "evidence(f_show(2, \"a\")). \n",
    "evidence(m_show(2, \"A\")).\n",
    "evidence(f_show(3, \"A\")). \n",
    "evidence(m_show(3, \"a\")). \n",
    "evidence(m_show(4, \"a\")).\n",
    "evidence(f_family_descendant(1)).\n",
    "evidence(f_family_descendant(2)).\n",
    "evidence(m_family_descendant(3)).\n",
    "evidence(m_family_descendant(4)).\n",
    "\n",
    "%%% Queries %%%\n",
    "query(disease(_)).\n",
    "query(f_carry(I, _)) :- generation(I), I>=0, I<4.\n",
    "query(f_show(I, _)) :- generation(I), I>=0, I<4.\n",
    "query(m_carry(I, _)) :- generation(I), I>=0.\n",
    "query(m_show(I, _)) :- generation(I), I>=0.\n",
    "query(m_family_descendant(I)) :- generation(I), I>0.\n",
    "query(f_family_descendant(I)) :- generation(I), I>0."
   ]
  },
  {
   "cell_type": "code",
   "execution_count": null,
   "id": "fc3886bd",
   "metadata": {},
   "outputs": [
    {
     "name": "stdout",
     "output_type": "stream",
     "text": [
      "       disease(\"auto\"):\t1         \n",
      "       f_carry(0,\"aa\"):\t1         \n",
      "       f_carry(1,\"aa\"):\t1         \n",
      "       f_carry(2,\"aa\"):\t1         \n",
      "       f_carry(3,\"Aa\"):\t1         \n",
      "f_family_descendant(1):\t1         \n",
      "f_family_descendant(2):\t1         \n",
      "         f_show(0,\"a\"):\t1         \n",
      "         f_show(1,\"a\"):\t1         \n",
      "         f_show(2,\"a\"):\t1         \n",
      "         f_show(3,\"A\"):\t1         \n",
      "       m_carry(0,\"Aa\"):\t1         \n",
      "       m_carry(1,\"Aa\"):\t1         \n",
      "       m_carry(2,\"Aa\"):\t1         \n",
      "       m_carry(3,\"aa\"):\t1         \n",
      "       m_carry(4,\"aa\"):\t1         \n",
      "m_family_descendant(3):\t1         \n",
      "m_family_descendant(4):\t1         \n",
      "         m_show(0,\"A\"):\t1         \n",
      "         m_show(1,\"A\"):\t1         \n",
      "         m_show(2,\"A\"):\t1         \n",
      "         m_show(3,\"a\"):\t1         \n",
      "         m_show(4,\"a\"):\t1         \n",
      "\n"
     ]
    }
   ],
   "source": [
    "for line in str(output).split('\\n'):\n",
    "    if not line.strip().endswith(':\\t0'):\n",
    "        print(line)"
   ]
  },
  {
   "cell_type": "markdown",
   "id": "90d63d5c",
   "metadata": {},
   "source": [
    "### B"
   ]
  },
  {
   "cell_type": "code",
   "execution_count": null,
   "id": "a210d4a2",
   "metadata": {},
   "outputs": [],
   "source": [
    "%%capture output\n",
    "%%script ./problog-cli.py --knowledge ddnnf --dont-propagate-evidence\n",
    "\n",
    ":- consult('mendelprob.pl').\n",
    "    \n",
    "%%% Prevalence of studied allele %%%\n",
    "prevalence(\"a\", 9999/10000).\n",
    "                        \n",
    "%%% Define generations of interest %%%\n",
    "generation(I) :- between(0, 3, I), integer(I).\n",
    "    \n",
    "%%% Evidences %%%\n",
    "%evidence(disease(\"auto\")).\n",
    "evidence(f_show(0, \"A\")).\n",
    "evidence(m_show(0, \"a\")).\n",
    "evidence(f_show(1, \"A\")). \n",
    "evidence(m_show(1, \"a\")).\n",
    "evidence(f_show(2, \"A\")). \n",
    "evidence(m_show(2, \"a\")).\n",
    "evidence(m_show(3, \"A\")). \n",
    "evidence(f_family_descendant(1)).\n",
    "evidence(f_family_descendant(2)).\n",
    "evidence(m_family_descendant(3)).\n",
    "\n",
    "%%% Queries %%%\n",
    "query(disease(_)).\n",
    "query(f_carry(I, _)) :- generation(I), I>=0, I<3.\n",
    "query(f_show(I, _)) :- generation(I), I>=0, I<3.\n",
    "query(m_carry(I, _)) :- generation(I), I>=0.\n",
    "query(m_show(I, _)) :- generation(I), I>=0.\n",
    "query(m_family_descendant(I)) :- generation(I), I>0.\n",
    "query(f_family_descendant(I)) :- generation(I), I>0."
   ]
  },
  {
   "cell_type": "code",
   "execution_count": null,
   "id": "2d014655",
   "metadata": {},
   "outputs": [
    {
     "name": "stdout",
     "output_type": "stream",
     "text": [
      "       disease(\"auto\"):\t0.499925  \n",
      "          disease(\"x\"):\t0.500075  \n",
      "       f_carry(0,\"AA\"):\t0.0001    \n",
      "       f_carry(0,\"Aa\"):\t0.9999    \n",
      "       f_carry(1,\"Aa\"):\t1         \n",
      "       f_carry(2,\"Aa\"):\t1         \n",
      "f_family_descendant(1):\t1         \n",
      "f_family_descendant(2):\t1         \n",
      "         f_show(0,\"A\"):\t1         \n",
      "         f_show(1,\"A\"):\t1         \n",
      "         f_show(2,\"A\"):\t1         \n",
      "       m_carry(0,\"a-\"):\t0.500075  \n",
      "       m_carry(0,\"aa\"):\t0.499925  \n",
      "       m_carry(1,\"a-\"):\t0.500075  \n",
      "       m_carry(1,\"aa\"):\t0.499925  \n",
      "       m_carry(2,\"a-\"):\t0.500075  \n",
      "       m_carry(2,\"aa\"):\t0.499925  \n",
      "       m_carry(3,\"A-\"):\t0.500075  \n",
      "       m_carry(3,\"Aa\"):\t0.499925  \n",
      "m_family_descendant(3):\t1         \n",
      "         m_show(0,\"a\"):\t1         \n",
      "         m_show(1,\"a\"):\t1         \n",
      "         m_show(2,\"a\"):\t1         \n",
      "         m_show(3,\"A\"):\t1         \n",
      "\n"
     ]
    }
   ],
   "source": [
    "for line in str(output).split('\\n'):\n",
    "    if not line.strip().endswith(':\\t0'):\n",
    "        print(line)"
   ]
  },
  {
   "cell_type": "markdown",
   "id": "b11890e2",
   "metadata": {},
   "source": [
    "#### Recessive"
   ]
  },
  {
   "cell_type": "code",
   "execution_count": null,
   "id": "eb499f74",
   "metadata": {},
   "outputs": [],
   "source": [
    "%%capture output\n",
    "%%script ./problog-cli.py --knowledge ddnnf --dont-propagate-evidence\n",
    "\n",
    ":- consult('mendelprob.pl').\n",
    "    \n",
    "%%% Prevalence of studied allele %%%\n",
    "prevalence(\"a\", 1/10000).\n",
    "                        \n",
    "%%% Define generations of interest %%%\n",
    "generation(I) :- between(0, 3, I), integer(I).\n",
    "    \n",
    "%%% Evidences %%%\n",
    "%evidence(disease(\"auto\")).\n",
    "evidence(f_show(0, \"a\")).\n",
    "evidence(m_show(0, \"A\")).\n",
    "evidence(f_show(1, \"a\")). \n",
    "evidence(m_show(1, \"A\")).\n",
    "evidence(f_show(2, \"a\")). \n",
    "evidence(m_show(2, \"A\")).\n",
    "evidence(m_show(3, \"a\")). \n",
    "evidence(f_family_descendant(1)).\n",
    "evidence(f_family_descendant(2)).\n",
    "evidence(m_family_descendant(3)).\n",
    "\n",
    "%%% Queries %%%\n",
    "query(disease(_)).\n",
    "query(f_carry(I, _)) :- generation(I), I>=0, I<3.\n",
    "query(f_show(I, _)) :- generation(I), I>=0, I<3.\n",
    "query(m_carry(I, _)) :- generation(I), I>=0.\n",
    "query(m_show(I, _)) :- generation(I), I>=0.\n",
    "query(m_family_descendant(I)) :- generation(I), I>0.\n",
    "query(f_family_descendant(I)) :- generation(I), I>0."
   ]
  },
  {
   "cell_type": "code",
   "execution_count": null,
   "id": "f1e173f9",
   "metadata": {},
   "outputs": [
    {
     "name": "stdout",
     "output_type": "stream",
     "text": [
      "       disease(\"auto\"):\t1         \n",
      "       f_carry(0,\"aa\"):\t1         \n",
      "       f_carry(1,\"aa\"):\t1         \n",
      "       f_carry(2,\"aa\"):\t1         \n",
      "f_family_descendant(1):\t1         \n",
      "f_family_descendant(2):\t1         \n",
      "         f_show(0,\"a\"):\t1         \n",
      "         f_show(1,\"a\"):\t1         \n",
      "         f_show(2,\"a\"):\t1         \n",
      "       m_carry(0,\"Aa\"):\t1         \n",
      "       m_carry(1,\"Aa\"):\t1         \n",
      "       m_carry(2,\"Aa\"):\t1         \n",
      "       m_carry(3,\"aa\"):\t1         \n",
      "m_family_descendant(3):\t1         \n",
      "         m_show(0,\"A\"):\t1         \n",
      "         m_show(1,\"A\"):\t1         \n",
      "         m_show(2,\"A\"):\t1         \n",
      "         m_show(3,\"a\"):\t1         \n",
      "\n"
     ]
    }
   ],
   "source": [
    "for line in str(output).split('\\n'):\n",
    "    if not line.strip().endswith(':\\t0'):\n",
    "        print(line)"
   ]
  },
  {
   "cell_type": "markdown",
   "id": "32128d9a",
   "metadata": {},
   "source": [
    "### C"
   ]
  },
  {
   "cell_type": "code",
   "execution_count": null,
   "id": "33ecaaa9",
   "metadata": {},
   "outputs": [],
   "source": [
    "%%capture output\n",
    "%%script ./problog-cli.py --knowledge ddnnf --dont-propagate-evidence\n",
    "\n",
    ":- consult('mendelprob.pl').\n",
    "    \n",
    "%%% Prevalence of studied allele %%%\n",
    "prevalence(\"a\", 9999/10000).\n",
    "                        \n",
    "%%% Define generations of interest %%%\n",
    "generation(I) :- between(0, 2, I), integer(I).\n",
    "    \n",
    "%%% Evidences %%%\n",
    "evidence(f_show(0, \"A\")).\n",
    "evidence(m_show(0, \"a\")).\n",
    "evidence(f_show(1, \"A\")). \n",
    "evidence(m_show(1, \"a\")).\n",
    "evidence(f_show(2, \"a\")).  \n",
    "evidence(f_family_descendant(1)).\n",
    "evidence(f_family_descendant(2)).\n",
    "\n",
    "%%% Queries %%%\n",
    "query(disease(_)).\n",
    "query(f_carry(I, _)) :- generation(I), I>=0.\n",
    "query(f_show(I, _)) :- generation(I), I>=0.\n",
    "query(m_carry(I, _)) :- generation(I), I>=0, I<2.\n",
    "query(m_show(I, _)) :- generation(I), I>=0, I<2.\n",
    "query(m_family_descendant(I)) :- generation(I), I>0.\n",
    "query(f_family_descendant(I)) :- generation(I), I>0."
   ]
  },
  {
   "cell_type": "code",
   "execution_count": null,
   "id": "a2ce0896",
   "metadata": {},
   "outputs": [
    {
     "name": "stdout",
     "output_type": "stream",
     "text": [
      "       disease(\"auto\"):\t0.49995   \n",
      "          disease(\"x\"):\t0.50005   \n",
      "       f_carry(0,\"AA\"):\t0.0001    \n",
      "       f_carry(0,\"Aa\"):\t0.9999    \n",
      "       f_carry(1,\"Aa\"):\t1         \n",
      "       f_carry(2,\"aa\"):\t1         \n",
      "f_family_descendant(1):\t1         \n",
      "f_family_descendant(2):\t1         \n",
      "         f_show(0,\"A\"):\t1         \n",
      "         f_show(1,\"A\"):\t1         \n",
      "         f_show(2,\"a\"):\t1         \n",
      "       m_carry(0,\"a-\"):\t0.50005   \n",
      "       m_carry(0,\"aa\"):\t0.49995   \n",
      "       m_carry(1,\"a-\"):\t0.50005   \n",
      "       m_carry(1,\"aa\"):\t0.49995   \n",
      "         m_show(0,\"a\"):\t1         \n",
      "         m_show(1,\"a\"):\t1         \n",
      "\n"
     ]
    }
   ],
   "source": [
    "for line in str(output).split('\\n'):\n",
    "    if not line.strip().endswith(':\\t0'):\n",
    "        print(line)"
   ]
  },
  {
   "cell_type": "markdown",
   "id": "93baef8c",
   "metadata": {},
   "source": [
    "#### Recessive"
   ]
  },
  {
   "cell_type": "code",
   "execution_count": null,
   "id": "b09c4c21",
   "metadata": {},
   "outputs": [],
   "source": [
    "%%capture output\n",
    "%%script ./problog-cli.py --knowledge ddnnf --dont-propagate-evidence\n",
    "\n",
    ":- consult('mendelprob.pl').\n",
    "    \n",
    "%%% Prevalence of studied allele %%%\n",
    "prevalence(\"a\", 1/10000).\n",
    "                        \n",
    "%%% Define generations of interest %%%\n",
    "generation(I) :- between(0, 2, I), integer(I).\n",
    "    \n",
    "%%% Evidences %%%\n",
    "evidence(f_show(0, \"a\")).\n",
    "evidence(m_show(0, \"A\")).\n",
    "evidence(f_show(1, \"a\")). \n",
    "evidence(m_show(1, \"A\")).\n",
    "evidence(f_show(2, \"A\")).  \n",
    "evidence(f_family_descendant(1)).\n",
    "evidence(f_family_descendant(2)).\n",
    "\n",
    "%%% Queries %%%\n",
    "query(disease(_)).\n",
    "query(f_carry(I, _)) :- generation(I), I>=0.\n",
    "query(f_show(I, _)) :- generation(I), I>=0.\n",
    "query(m_carry(I, _)) :- generation(I), I>=0, I<2.\n",
    "query(m_show(I, _)) :- generation(I), I>=0, I<2.\n",
    "query(m_family_descendant(I)) :- generation(I), I>0.\n",
    "query(f_family_descendant(I)) :- generation(I), I>0."
   ]
  },
  {
   "cell_type": "code",
   "execution_count": null,
   "id": "e806af60",
   "metadata": {},
   "outputs": [
    {
     "name": "stdout",
     "output_type": "stream",
     "text": [
      "       disease(\"auto\"):\t1         \n",
      "       f_carry(0,\"aa\"):\t1         \n",
      "       f_carry(1,\"aa\"):\t1         \n",
      "       f_carry(2,\"Aa\"):\t1         \n",
      "f_family_descendant(1):\t1         \n",
      "f_family_descendant(2):\t1         \n",
      "         f_show(0,\"a\"):\t1         \n",
      "         f_show(1,\"a\"):\t1         \n",
      "         f_show(2,\"A\"):\t1         \n",
      "       m_carry(0,\"Aa\"):\t1         \n",
      "       m_carry(1,\"AA\"):\t0.9999    \n",
      "       m_carry(1,\"Aa\"):\t0.0001    \n",
      "         m_show(0,\"A\"):\t1         \n",
      "         m_show(1,\"A\"):\t1         \n",
      "\n"
     ]
    }
   ],
   "source": [
    "for line in str(output).split('\\n'):\n",
    "    if not line.strip().endswith(':\\t0'):\n",
    "        print(line)"
   ]
  },
  {
   "cell_type": "markdown",
   "id": "4c4014dd",
   "metadata": {},
   "source": [
    "### D"
   ]
  },
  {
   "cell_type": "code",
   "execution_count": null,
   "id": "2ffad722",
   "metadata": {},
   "outputs": [],
   "source": [
    "%%capture output\n",
    "%%script ./problog-cli.py --knowledge ddnnf --dont-propagate-evidence\n",
    "\n",
    ":- consult('mendelprob.pl').\n",
    "    \n",
    "%%% Prevalence of studied allele %%%\n",
    "prevalence(\"a\", 9999/10000).\n",
    "                        \n",
    "%%% Define generations of interest %%%\n",
    "generation(I) :- between(0, 3, I), integer(I).\n",
    "    \n",
    "%%% Evidences %%%\n",
    "%evidence(disease(\"auto\")).\n",
    "evidence(f_show(0, \"A\")).\n",
    "evidence(m_show(0, \"a\")).\n",
    "evidence(f_show(1, \"A\")). \n",
    "evidence(m_show(1, \"a\")).\n",
    "evidence(f_show(2, \"A\")). \n",
    "evidence(m_show(2, \"a\")).\n",
    "evidence(m_show(3, \"a\")). \n",
    "evidence(f_family_descendant(1)).\n",
    "evidence(f_family_descendant(2)).\n",
    "evidence(m_family_descendant(3)).\n",
    "\n",
    "%%% Queries %%%\n",
    "query(disease(_)).\n",
    "query(f_carry(I, _)) :- generation(I), I>=0, I<3.\n",
    "query(f_show(I, _)) :- generation(I), I>=0, I<3.\n",
    "query(m_carry(I, _)) :- generation(I), I>=0.\n",
    "query(m_show(I, _)) :- generation(I), I>=0.\n",
    "query(m_family_descendant(I)) :- generation(I), I>0.\n",
    "query(f_family_descendant(I)) :- generation(I), I>0."
   ]
  },
  {
   "cell_type": "code",
   "execution_count": null,
   "id": "643e4e33",
   "metadata": {},
   "outputs": [
    {
     "name": "stdout",
     "output_type": "stream",
     "text": [
      "       disease(\"auto\"):\t0.499925  \n",
      "          disease(\"x\"):\t0.500075  \n",
      "       f_carry(0,\"AA\"):\t0.0001    \n",
      "       f_carry(0,\"Aa\"):\t0.9999    \n",
      "       f_carry(1,\"Aa\"):\t1         \n",
      "       f_carry(2,\"Aa\"):\t1         \n",
      "f_family_descendant(1):\t1         \n",
      "f_family_descendant(2):\t1         \n",
      "         f_show(0,\"A\"):\t1         \n",
      "         f_show(1,\"A\"):\t1         \n",
      "         f_show(2,\"A\"):\t1         \n",
      "       m_carry(0,\"a-\"):\t0.500075  \n",
      "       m_carry(0,\"aa\"):\t0.499925  \n",
      "       m_carry(1,\"a-\"):\t0.500075  \n",
      "       m_carry(1,\"aa\"):\t0.499925  \n",
      "       m_carry(2,\"a-\"):\t0.500075  \n",
      "       m_carry(2,\"aa\"):\t0.499925  \n",
      "       m_carry(3,\"a-\"):\t0.500075  \n",
      "       m_carry(3,\"aa\"):\t0.499925  \n",
      "m_family_descendant(3):\t1         \n",
      "         m_show(0,\"a\"):\t1         \n",
      "         m_show(1,\"a\"):\t1         \n",
      "         m_show(2,\"a\"):\t1         \n",
      "         m_show(3,\"a\"):\t1         \n",
      "\n"
     ]
    }
   ],
   "source": [
    "for line in str(output).split('\\n'):\n",
    "    if not line.strip().endswith(':\\t0'):\n",
    "        print(line)"
   ]
  },
  {
   "cell_type": "markdown",
   "id": "6b884350",
   "metadata": {},
   "source": [
    "#### Recessive hypothesis"
   ]
  },
  {
   "cell_type": "code",
   "execution_count": null,
   "id": "5be90fae",
   "metadata": {},
   "outputs": [],
   "source": [
    "%%capture output\n",
    "%%script ./problog-cli.py --knowledge ddnnf --dont-propagate-evidence\n",
    "\n",
    ":- consult('mendelprob.pl').\n",
    "    \n",
    "%%% Prevalence of studied allele %%%\n",
    "prevalence(\"a\", 1/10000).\n",
    "                        \n",
    "%%% Define generations of interest %%%\n",
    "generation(I) :- between(0, 3, I), integer(I).\n",
    "    \n",
    "%%% Evidences %%%\n",
    "%evidence(disease(\"auto\")).\n",
    "evidence(f_show(0, \"a\")).\n",
    "evidence(m_show(0, \"A\")).\n",
    "evidence(f_show(1, \"a\")). \n",
    "evidence(m_show(1, \"A\")).\n",
    "evidence(f_show(2, \"a\")). \n",
    "evidence(m_show(2, \"A\")).\n",
    "evidence(m_show(3, \"A\")). \n",
    "evidence(f_family_descendant(1)).\n",
    "evidence(f_family_descendant(2)).\n",
    "evidence(m_family_descendant(3)).\n",
    "\n",
    "%%% Queries %%%\n",
    "query(disease(_)).\n",
    "query(f_carry(I, _)) :- generation(I), I>=0, I<3.\n",
    "query(f_show(I, _)) :- generation(I), I>=0, I<3.\n",
    "query(m_carry(I, _)) :- generation(I), I>=0.\n",
    "query(m_show(I, _)) :- generation(I), I>=0.\n",
    "query(m_family_descendant(I)) :- generation(I), I>0.\n",
    "query(f_family_descendant(I)) :- generation(I), I>0."
   ]
  },
  {
   "cell_type": "code",
   "execution_count": null,
   "id": "6c69d67c",
   "metadata": {},
   "outputs": [
    {
     "name": "stdout",
     "output_type": "stream",
     "text": [
      "       disease(\"auto\"):\t1         \n",
      "       f_carry(0,\"aa\"):\t1         \n",
      "       f_carry(1,\"aa\"):\t1         \n",
      "       f_carry(2,\"aa\"):\t1         \n",
      "f_family_descendant(1):\t1         \n",
      "f_family_descendant(2):\t1         \n",
      "         f_show(0,\"a\"):\t1         \n",
      "         f_show(1,\"a\"):\t1         \n",
      "         f_show(2,\"a\"):\t1         \n",
      "       m_carry(0,\"Aa\"):\t1         \n",
      "       m_carry(1,\"Aa\"):\t1         \n",
      "       m_carry(2,\"AA\"):\t0.9999    \n",
      "       m_carry(2,\"Aa\"):\t0.0001    \n",
      "       m_carry(3,\"Aa\"):\t1         \n",
      "m_family_descendant(3):\t1         \n",
      "         m_show(0,\"A\"):\t1         \n",
      "         m_show(1,\"A\"):\t1         \n",
      "         m_show(2,\"A\"):\t1         \n",
      "         m_show(3,\"A\"):\t1         \n",
      "\n"
     ]
    }
   ],
   "source": [
    "for line in str(output).split('\\n'):\n",
    "    if not line.strip().endswith(':\\t0'):\n",
    "        print(line)"
   ]
  },
  {
   "cell_type": "markdown",
   "id": "a6e9e22a",
   "metadata": {},
   "source": [
    "### E"
   ]
  },
  {
   "cell_type": "code",
   "execution_count": null,
   "id": "fac3a857",
   "metadata": {},
   "outputs": [],
   "source": [
    "%%capture output\n",
    "%%script ./problog-cli.py --knowledge ddnnf --dont-propagate-evidence\n",
    "\n",
    ":- consult('mendelprob.pl').\n",
    "    \n",
    "%%% Prevalence of studied allele %%%\n",
    "prevalence(\"a\", 9999/10000).\n",
    "                        \n",
    "%%% Define generations of interest %%%\n",
    "generation(I) :- between(0, 3, I), integer(I).\n",
    "    \n",
    "%%% Evidences %%%\n",
    "evidence(f_show(0, \"A\")).\n",
    "evidence(m_show(0, \"a\")).\n",
    "evidence(f_show(1, \"A\")). \n",
    "evidence(m_show(1, \"a\")).\n",
    "evidence(f_show(2, \"A\")). \n",
    "evidence(m_show(2, \"a\")).\n",
    "evidence(f_show(3, \"A\")). \n",
    "evidence(f_family_descendant(1)).\n",
    "evidence(f_family_descendant(2)).\n",
    "evidence(f_family_descendant(3)).\n",
    "\n",
    "%%% Queries %%%\n",
    "query(disease(_)).\n",
    "query(f_carry(I, _)) :- generation(I), I>=0.\n",
    "query(f_show(I, _)) :- generation(I), I>=0.\n",
    "query(m_carry(I, _)) :- generation(I), I>=0, I<3.\n",
    "query(m_show(I, _)) :- generation(I), I>=0, I<3.\n",
    "query(m_family_descendant(I)) :- generation(I), I>0.\n",
    "query(f_family_descendant(I)) :- generation(I), I>0."
   ]
  },
  {
   "cell_type": "code",
   "execution_count": null,
   "id": "8df1ac8e",
   "metadata": {},
   "outputs": [
    {
     "name": "stdout",
     "output_type": "stream",
     "text": [
      "       disease(\"auto\"):\t0.499925  \n",
      "          disease(\"x\"):\t0.500075  \n",
      "       f_carry(0,\"AA\"):\t0.0001    \n",
      "       f_carry(0,\"Aa\"):\t0.9999    \n",
      "       f_carry(1,\"Aa\"):\t1         \n",
      "       f_carry(2,\"Aa\"):\t1         \n",
      "       f_carry(3,\"Aa\"):\t1         \n",
      "f_family_descendant(1):\t1         \n",
      "f_family_descendant(2):\t1         \n",
      "f_family_descendant(3):\t1         \n",
      "         f_show(0,\"A\"):\t1         \n",
      "         f_show(1,\"A\"):\t1         \n",
      "         f_show(2,\"A\"):\t1         \n",
      "         f_show(3,\"A\"):\t1         \n",
      "       m_carry(0,\"a-\"):\t0.500075  \n",
      "       m_carry(0,\"aa\"):\t0.499925  \n",
      "       m_carry(1,\"a-\"):\t0.500075  \n",
      "       m_carry(1,\"aa\"):\t0.499925  \n",
      "       m_carry(2,\"a-\"):\t0.500075  \n",
      "       m_carry(2,\"aa\"):\t0.499925  \n",
      "         m_show(0,\"a\"):\t1         \n",
      "         m_show(1,\"a\"):\t1         \n",
      "         m_show(2,\"a\"):\t1         \n",
      "\n"
     ]
    }
   ],
   "source": [
    "for line in str(output).split('\\n'):\n",
    "    if not line.strip().endswith(':\\t0'):\n",
    "        print(line)"
   ]
  },
  {
   "cell_type": "markdown",
   "id": "7db4bbd1",
   "metadata": {},
   "source": [
    "#### Recessive"
   ]
  },
  {
   "cell_type": "code",
   "execution_count": null,
   "id": "efb20546",
   "metadata": {},
   "outputs": [],
   "source": [
    "%%capture output\n",
    "%%script ./problog-cli.py --knowledge ddnnf --dont-propagate-evidence\n",
    "\n",
    ":- consult('mendelprob.pl').\n",
    "    \n",
    "%%% Prevalence of studied allele %%%\n",
    "prevalence(\"a\", 1/10000).\n",
    "                        \n",
    "%%% Define generations of interest %%%\n",
    "generation(I) :- between(0, 3, I), integer(I).\n",
    "    \n",
    "%%% Evidences %%%\n",
    "evidence(f_show(0, \"a\")).\n",
    "evidence(m_show(0, \"A\")).\n",
    "evidence(f_show(1, \"a\")). \n",
    "evidence(m_show(1, \"A\")).\n",
    "evidence(f_show(2, \"a\")). \n",
    "evidence(m_show(2, \"A\")).\n",
    "evidence(f_show(3, \"a\")). \n",
    "evidence(f_family_descendant(1)).\n",
    "evidence(f_family_descendant(2)).\n",
    "evidence(f_family_descendant(3)).\n",
    "\n",
    "%%% Queries %%%\n",
    "query(disease(_)).\n",
    "query(f_carry(I, _)) :- generation(I), I>=0.\n",
    "query(f_show(I, _)) :- generation(I), I>=0.\n",
    "query(m_carry(I, _)) :- generation(I), I>=0, I<3.\n",
    "query(m_show(I, _)) :- generation(I), I>=0, I<3.\n",
    "query(m_family_descendant(I)) :- generation(I), I>0.\n",
    "query(f_family_descendant(I)) :- generation(I), I>0."
   ]
  },
  {
   "cell_type": "code",
   "execution_count": null,
   "id": "add3acac",
   "metadata": {},
   "outputs": [
    {
     "name": "stdout",
     "output_type": "stream",
     "text": [
      "       disease(\"auto\"):\t1         \n",
      "       f_carry(0,\"aa\"):\t1         \n",
      "       f_carry(1,\"aa\"):\t1         \n",
      "       f_carry(2,\"aa\"):\t1         \n",
      "       f_carry(3,\"aa\"):\t1         \n",
      "f_family_descendant(1):\t1         \n",
      "f_family_descendant(2):\t1         \n",
      "f_family_descendant(3):\t1         \n",
      "         f_show(0,\"a\"):\t1         \n",
      "         f_show(1,\"a\"):\t1         \n",
      "         f_show(2,\"a\"):\t1         \n",
      "         f_show(3,\"a\"):\t1         \n",
      "       m_carry(0,\"Aa\"):\t1         \n",
      "       m_carry(1,\"Aa\"):\t1         \n",
      "       m_carry(2,\"Aa\"):\t1         \n",
      "         m_show(0,\"A\"):\t1         \n",
      "         m_show(1,\"A\"):\t1         \n",
      "         m_show(2,\"A\"):\t1         \n",
      "\n"
     ]
    }
   ],
   "source": [
    "for line in str(output).split('\\n'):\n",
    "    if not line.strip().endswith(':\\t0'):\n",
    "        print(line)"
   ]
  },
  {
   "cell_type": "markdown",
   "id": "4a91d14c",
   "metadata": {},
   "source": [
    "### F"
   ]
  },
  {
   "cell_type": "code",
   "execution_count": null,
   "id": "dae6e7f0",
   "metadata": {},
   "outputs": [],
   "source": [
    "%%capture output\n",
    "%%script ./problog-cli.py --knowledge ddnnf --dont-propagate-evidence\n",
    "\n",
    ":- consult('mendelprob.pl').\n",
    "    \n",
    "%%% Prevalence of studied allele %%%\n",
    "prevalence(\"a\", 9999/10000).\n",
    "                        \n",
    "%%% Define generations of interest %%%\n",
    "generation(I) :- between(0, 2, I), integer(I).\n",
    "    \n",
    "%%% Evidences %%%\n",
    "evidence(f_show(0, \"A\")).\n",
    "evidence(m_show(0, \"a\")).\n",
    "evidence(f_show(1, \"A\")). \n",
    "evidence(m_show(1, \"a\")).\n",
    "evidence(m_show(2, \"a\")).  \n",
    "evidence(f_family_descendant(1)).\n",
    "evidence(m_family_descendant(2)).\n",
    "\n",
    "%%% Queries %%%\n",
    "query(disease(_)).\n",
    "query(f_carry(I, _)) :- generation(I), I>=0, I<2.\n",
    "query(f_show(I, _)) :- generation(I), I>=0, I<2.\n",
    "query(m_carry(I, _)) :- generation(I), I>=0.\n",
    "query(m_show(I, _)) :- generation(I), I>=0.\n",
    "query(m_family_descendant(I)) :- generation(I), I>0.\n",
    "query(f_family_descendant(I)) :- generation(I), I>0."
   ]
  },
  {
   "cell_type": "code",
   "execution_count": null,
   "id": "41c7eab1",
   "metadata": {},
   "outputs": [
    {
     "name": "stdout",
     "output_type": "stream",
     "text": [
      "       disease(\"auto\"):\t0.49995   \n",
      "          disease(\"x\"):\t0.50005   \n",
      "       f_carry(0,\"AA\"):\t0.0001    \n",
      "       f_carry(0,\"Aa\"):\t0.9999    \n",
      "       f_carry(1,\"Aa\"):\t1         \n",
      "f_family_descendant(1):\t1         \n",
      "         f_show(0,\"A\"):\t1         \n",
      "         f_show(1,\"A\"):\t1         \n",
      "       m_carry(0,\"a-\"):\t0.50005   \n",
      "       m_carry(0,\"aa\"):\t0.49995   \n",
      "       m_carry(1,\"a-\"):\t0.50005   \n",
      "       m_carry(1,\"aa\"):\t0.49995   \n",
      "       m_carry(2,\"a-\"):\t0.50005   \n",
      "       m_carry(2,\"aa\"):\t0.49995   \n",
      "m_family_descendant(2):\t1         \n",
      "         m_show(0,\"a\"):\t1         \n",
      "         m_show(1,\"a\"):\t1         \n",
      "         m_show(2,\"a\"):\t1         \n",
      "\n"
     ]
    }
   ],
   "source": [
    "for line in str(output).split('\\n'):\n",
    "    if not line.strip().endswith(':\\t0'):\n",
    "        print(line)"
   ]
  },
  {
   "cell_type": "markdown",
   "id": "3cb1a25f",
   "metadata": {},
   "source": [
    "#### Recessive"
   ]
  },
  {
   "cell_type": "code",
   "execution_count": null,
   "id": "07e27b6f",
   "metadata": {},
   "outputs": [],
   "source": [
    "%%capture output\n",
    "%%script ./problog-cli.py --knowledge ddnnf --dont-propagate-evidence\n",
    "\n",
    ":- consult('mendelprob.pl').\n",
    "    \n",
    "%%% Prevalence of studied allele %%%\n",
    "prevalence(\"a\", 1/10000).\n",
    "                        \n",
    "%%% Define generations of interest %%%\n",
    "generation(I) :- between(0, 2, I), integer(I).\n",
    "    \n",
    "%%% Evidences %%%\n",
    "evidence(f_show(0, \"a\")).\n",
    "evidence(m_show(0, \"A\")).\n",
    "evidence(f_show(1, \"a\")). \n",
    "evidence(m_show(1, \"A\")).\n",
    "evidence(m_show(2, \"A\")).  \n",
    "evidence(f_family_descendant(1)).\n",
    "evidence(m_family_descendant(2)).\n",
    "\n",
    "%%% Queries %%%\n",
    "query(disease(_)).\n",
    "query(f_carry(I, _)) :- generation(I), I>=0, I<2.\n",
    "query(f_show(I, _)) :- generation(I), I>=0, I<2.\n",
    "query(m_carry(I, _)) :- generation(I), I>=0.\n",
    "query(m_show(I, _)) :- generation(I), I>=0.\n",
    "query(m_family_descendant(I)) :- generation(I), I>0.\n",
    "query(f_family_descendant(I)) :- generation(I), I>0."
   ]
  },
  {
   "cell_type": "code",
   "execution_count": null,
   "id": "03ed6758",
   "metadata": {},
   "outputs": [
    {
     "name": "stdout",
     "output_type": "stream",
     "text": [
      "       disease(\"auto\"):\t1         \n",
      "       f_carry(0,\"aa\"):\t1         \n",
      "       f_carry(1,\"aa\"):\t1         \n",
      "f_family_descendant(1):\t1         \n",
      "         f_show(0,\"a\"):\t1         \n",
      "         f_show(1,\"a\"):\t1         \n",
      "       m_carry(0,\"Aa\"):\t1         \n",
      "       m_carry(1,\"AA\"):\t0.9999    \n",
      "       m_carry(1,\"Aa\"):\t0.0001    \n",
      "       m_carry(2,\"Aa\"):\t1         \n",
      "m_family_descendant(2):\t1         \n",
      "         m_show(0,\"A\"):\t1         \n",
      "         m_show(1,\"A\"):\t1         \n",
      "         m_show(2,\"A\"):\t1         \n",
      "\n"
     ]
    }
   ],
   "source": [
    "for line in str(output).split('\\n'):\n",
    "    if not line.strip().endswith(':\\t0'):\n",
    "        print(line)"
   ]
  },
  {
   "cell_type": "markdown",
   "id": "102cbf6b",
   "metadata": {},
   "source": [
    "### G"
   ]
  },
  {
   "cell_type": "code",
   "execution_count": null,
   "id": "e4256fb9",
   "metadata": {},
   "outputs": [],
   "source": [
    "%%capture output\n",
    "%%script ./problog-cli.py --knowledge ddnnf --dont-propagate-evidence\n",
    "\n",
    ":- consult('mendelprob.pl').\n",
    "    \n",
    "%%% Prevalence of studied allele %%%\n",
    "prevalence(\"a\", 9999/10000).\n",
    "                        \n",
    "%%% Define generations of interest %%%\n",
    "generation(I) :- between(0, 2, I), integer(I).\n",
    "    \n",
    "%%% Evidences %%%\n",
    "evidence(f_show(0, \"A\")).\n",
    "evidence(m_show(0, \"a\")).\n",
    "evidence(m_show(1, \"A\")). \n",
    "evidence(f_show(1, \"a\")).\n",
    "evidence(f_show(2, \"a\")).  \n",
    "evidence(m_family_descendant(1)).\n",
    "evidence(f_family_descendant(2)).\n",
    "\n",
    "%%% Queries %%%\n",
    "query(disease(_)).\n",
    "query(f_carry(I, _)) :- generation(I), I>=0.\n",
    "query(f_show(I, _)) :- generation(I), I>=0.\n",
    "query(m_carry(I, _)) :- generation(I), I>=0, I<2.\n",
    "query(m_show(I, _)) :- generation(I), I>=0, I<2.\n",
    "query(m_family_descendant(I)) :- generation(I), I>0.\n",
    "query(f_family_descendant(I)) :- generation(I), I>0."
   ]
  },
  {
   "cell_type": "code",
   "execution_count": null,
   "id": "6e763ee8",
   "metadata": {},
   "outputs": [
    {
     "name": "stdout",
     "output_type": "stream",
     "text": [
      "       disease(\"auto\"):\t1         \n",
      "       f_carry(0,\"AA\"):\t0.0001    \n",
      "       f_carry(0,\"Aa\"):\t0.9999    \n",
      "       f_carry(1,\"aa\"):\t1         \n",
      "f_family_descendant(2):\t1         \n",
      "         f_show(0,\"A\"):\t1         \n",
      "         f_show(1,\"a\"):\t1         \n",
      "       m_carry(0,\"aa\"):\t1         \n",
      "       m_carry(1,\"Aa\"):\t1         \n",
      "       m_carry(2,\"AA\"):\t1e-08     \n",
      "       m_carry(2,\"Aa\"):\t0.00019998\n",
      "       m_carry(2,\"aa\"):\t0.99980001\n",
      "m_family_descendant(1):\t1         \n",
      "         m_show(0,\"a\"):\t1         \n",
      "         m_show(1,\"A\"):\t1         \n",
      "         m_show(2,\"A\"):\t0.00019999\n",
      "         m_show(2,\"a\"):\t0.99980001\n",
      "\n"
     ]
    }
   ],
   "source": [
    "for line in str(output).split('\\n'):\n",
    "    if not line.strip().endswith(':\\t0'):\n",
    "        print(line)"
   ]
  },
  {
   "cell_type": "markdown",
   "id": "555f7ee7",
   "metadata": {},
   "source": [
    "#### Recessive"
   ]
  },
  {
   "cell_type": "code",
   "execution_count": null,
   "id": "80709e48",
   "metadata": {},
   "outputs": [],
   "source": [
    "%%capture output\n",
    "%%script ./problog-cli.py --knowledge ddnnf --dont-propagate-evidence\n",
    "\n",
    ":- consult('mendelprob.pl').\n",
    "    \n",
    "%%% Prevalence of studied allele %%%\n",
    "prevalence(\"a\", 1/10000).\n",
    "                        \n",
    "%%% Define generations of interest %%%\n",
    "generation(I) :- between(0, 2, I), integer(I).\n",
    "    \n",
    "%%% Evidences %%%\n",
    "evidence(f_show(0, \"a\")).\n",
    "evidence(m_show(0, \"A\")).\n",
    "evidence(m_show(1, \"a\")). \n",
    "evidence(f_show(1, \"A\")).\n",
    "evidence(f_show(2, \"A\")).  \n",
    "evidence(m_family_descendant(1)).\n",
    "evidence(f_family_descendant(2)).\n",
    "\n",
    "%%% Queries %%%\n",
    "query(disease(_)).\n",
    "query(f_carry(I, _)) :- generation(I), I>=0.\n",
    "query(f_show(I, _)) :- generation(I), I>=0.\n",
    "query(m_carry(I, _)) :- generation(I), I>=0, I<2.\n",
    "query(m_show(I, _)) :- generation(I), I>=0, I<2.\n",
    "query(m_family_descendant(I)) :- generation(I), I>0.\n",
    "query(f_family_descendant(I)) :- generation(I), I>0."
   ]
  },
  {
   "cell_type": "code",
   "execution_count": null,
   "id": "69dc663c",
   "metadata": {},
   "outputs": [
    {
     "name": "stdout",
     "output_type": "stream",
     "text": [
      "       disease(\"auto\"):\t9.9990001e-05\n",
      "          disease(\"x\"):\t0.99990001\n",
      "       f_carry(0,\"aa\"):\t1         \n",
      "       f_carry(1,\"AA\"):\t0.9999    \n",
      "       f_carry(1,\"Aa\"):\t0.0001    \n",
      "       f_carry(2,\"Aa\"):\t1         \n",
      "f_family_descendant(2):\t1         \n",
      "         f_show(0,\"a\"):\t1         \n",
      "         f_show(1,\"A\"):\t1         \n",
      "         f_show(2,\"A\"):\t1         \n",
      "       m_carry(0,\"A-\"):\t0.99990001\n",
      "       m_carry(0,\"Aa\"):\t9.9990001e-05\n",
      "       m_carry(1,\"a-\"):\t0.99990001\n",
      "       m_carry(1,\"aa\"):\t9.9990001e-05\n",
      "m_family_descendant(1):\t1         \n",
      "         m_show(0,\"A\"):\t1         \n",
      "         m_show(1,\"a\"):\t1         \n",
      "\n"
     ]
    }
   ],
   "source": [
    "for line in str(output).split('\\n'):\n",
    "    if not line.strip().endswith(':\\t0'):\n",
    "        print(line)"
   ]
  },
  {
   "cell_type": "markdown",
   "id": "56183028",
   "metadata": {},
   "source": [
    "### H"
   ]
  },
  {
   "cell_type": "code",
   "execution_count": null,
   "id": "d263fdee",
   "metadata": {},
   "outputs": [],
   "source": [
    "%%capture output\n",
    "%%script ./problog-cli.py --knowledge ddnnf --dont-propagate-evidence\n",
    "\n",
    ":- consult('mendelprob.pl').\n",
    "    \n",
    "%%% Prevalence of studied allele %%%\n",
    "prevalence(\"a\", 9999/10000).\n",
    "                        \n",
    "%%% Define generations of interest %%%\n",
    "generation(I) :- between(0, 2, I), integer(I).\n",
    "    \n",
    "%%% Evidences %%%\n",
    "evidence(f_show(0, \"A\")).\n",
    "evidence(m_show(0, \"a\")).\n",
    "evidence(m_show(1, \"A\")). \n",
    "evidence(f_show(1, \"a\")).\n",
    "evidence(m_show(2, \"a\")).  \n",
    "evidence(m_family_descendant(1)).\n",
    "evidence(m_family_descendant(2)).\n",
    "\n",
    "%%% Queries %%%\n",
    "query(disease(_)).\n",
    "query(f_carry(I, _)) :- generation(I), I>=0, I<2.\n",
    "query(f_show(I, _)) :- generation(I), I>=0, I<2.\n",
    "query(m_carry(I, _)) :- generation(I), I>=0.\n",
    "query(m_show(I, _)) :- generation(I), I>=0.\n",
    "query(m_family_descendant(I)) :- generation(I), I>0.\n",
    "query(f_family_descendant(I)) :- generation(I), I>0."
   ]
  },
  {
   "cell_type": "code",
   "execution_count": null,
   "id": "45ae9641",
   "metadata": {},
   "outputs": [
    {
     "name": "stdout",
     "output_type": "stream",
     "text": [
      "       disease(\"auto\"):\t0.33331111\n",
      "          disease(\"x\"):\t0.66668889\n",
      "       f_carry(0,\"AA\"):\t0.0001    \n",
      "       f_carry(0,\"Aa\"):\t0.9999    \n",
      "       f_carry(1,\"aa\"):\t1         \n",
      "         f_show(0,\"A\"):\t1         \n",
      "         f_show(1,\"a\"):\t1         \n",
      "       m_carry(0,\"a-\"):\t0.66668889\n",
      "       m_carry(0,\"aa\"):\t0.33331111\n",
      "       m_carry(1,\"A-\"):\t0.66668889\n",
      "       m_carry(1,\"Aa\"):\t0.33331111\n",
      "       m_carry(2,\"a-\"):\t0.66668889\n",
      "       m_carry(2,\"aa\"):\t0.33331111\n",
      "m_family_descendant(1):\t1         \n",
      "m_family_descendant(2):\t1         \n",
      "         m_show(0,\"a\"):\t1         \n",
      "         m_show(1,\"A\"):\t1         \n",
      "         m_show(2,\"a\"):\t1         \n",
      "\n"
     ]
    }
   ],
   "source": [
    "for line in str(output).split('\\n'):\n",
    "    if not line.strip().endswith(':\\t0'):\n",
    "        print(line)"
   ]
  },
  {
   "cell_type": "markdown",
   "id": "c6468b3c",
   "metadata": {},
   "source": [
    "#### Recessive"
   ]
  },
  {
   "cell_type": "code",
   "execution_count": null,
   "id": "8119a8f2",
   "metadata": {},
   "outputs": [],
   "source": [
    "%%capture output\n",
    "%%script ./problog-cli.py --knowledge ddnnf --dont-propagate-evidence\n",
    "\n",
    ":- consult('mendelprob.pl').\n",
    "    \n",
    "%%% Prevalence of studied allele %%%\n",
    "prevalence(\"a\", 1/10000).\n",
    "                        \n",
    "%%% Define generations of interest %%%\n",
    "generation(I) :- between(0, 2, I), integer(I).\n",
    "    \n",
    "%%% Evidences %%%\n",
    "evidence(f_show(0, \"a\")).\n",
    "evidence(m_show(0, \"A\")).\n",
    "evidence(m_show(1, \"a\")). \n",
    "evidence(f_show(1, \"A\")).\n",
    "evidence(m_show(2, \"A\")).  \n",
    "evidence(m_family_descendant(1)).\n",
    "evidence(m_family_descendant(2)).\n",
    "\n",
    "%%% Queries %%%\n",
    "query(disease(_)).\n",
    "query(f_carry(I, _)) :- generation(I), I>=0, I<2.\n",
    "query(f_show(I, _)) :- generation(I), I>=0, I<2.\n",
    "query(m_carry(I, _)) :- generation(I), I>=0.\n",
    "query(m_show(I, _)) :- generation(I), I>=0.\n",
    "query(m_family_descendant(I)) :- generation(I), I>0.\n",
    "query(f_family_descendant(I)) :- generation(I), I>0."
   ]
  },
  {
   "cell_type": "code",
   "execution_count": null,
   "id": "54d4f7c3",
   "metadata": {},
   "outputs": [
    {
     "name": "stdout",
     "output_type": "stream",
     "text": [
      "       disease(\"auto\"):\t9.9990001e-05\n",
      "          disease(\"x\"):\t0.99990001\n",
      "       f_carry(0,\"aa\"):\t1         \n",
      "       f_carry(1,\"AA\"):\t0.9999    \n",
      "       f_carry(1,\"Aa\"):\t0.0001    \n",
      "         f_show(0,\"a\"):\t1         \n",
      "         f_show(1,\"A\"):\t1         \n",
      "       m_carry(0,\"A-\"):\t0.99990001\n",
      "       m_carry(0,\"Aa\"):\t9.9990001e-05\n",
      "       m_carry(1,\"a-\"):\t0.99990001\n",
      "       m_carry(1,\"aa\"):\t9.9990001e-05\n",
      "       m_carry(2,\"A-\"):\t0.99990001\n",
      "       m_carry(2,\"Aa\"):\t9.9990001e-05\n",
      "m_family_descendant(1):\t1         \n",
      "m_family_descendant(2):\t1         \n",
      "         m_show(0,\"A\"):\t1         \n",
      "         m_show(1,\"a\"):\t1         \n",
      "         m_show(2,\"A\"):\t1         \n",
      "\n"
     ]
    }
   ],
   "source": [
    "for line in str(output).split('\\n'):\n",
    "    if not line.strip().endswith(':\\t0'):\n",
    "        print(line)"
   ]
  },
  {
   "cell_type": "markdown",
   "id": "641038cd",
   "metadata": {},
   "source": [
    "### I"
   ]
  },
  {
   "cell_type": "code",
   "execution_count": null,
   "id": "168272e6",
   "metadata": {},
   "outputs": [],
   "source": [
    "%%capture output\n",
    "%%script ./problog-cli.py --knowledge ddnnf --dont-propagate-evidence\n",
    "\n",
    ":- consult('mendelprob.pl').\n",
    "    \n",
    "%%% Prevalence of studied allele %%%\n",
    "prevalence(\"a\", 9999/10000).\n",
    "                        \n",
    "%%% Define generations of interest %%%\n",
    "generation(I) :- between(0, 3, I), integer(I).\n",
    "    \n",
    "%%% Evidences %%%\n",
    "%evidence(disease(\"auto\")).\n",
    "evidence(f_show(0, \"A\")).\n",
    "evidence(m_show(0, \"a\")).\n",
    "evidence(f_show(1, \"A\")). \n",
    "evidence(m_show(1, \"a\")).\n",
    "evidence(m_show(2, \"A\")). \n",
    "evidence(f_show(2, \"a\")).\n",
    "evidence(f_show(3, \"A\")). \n",
    "evidence(f_family_descendant(1)).\n",
    "evidence(m_family_descendant(2)).\n",
    "evidence(f_family_descendant(3)).\n",
    "\n",
    "%%% Queries %%%\n",
    "query(disease(_)).\n",
    "query(f_carry(I, _)) :- generation(I), I>=0.\n",
    "query(f_show(I, _)) :- generation(I), I>=0.\n",
    "query(m_carry(I, _)) :- generation(I), I>=0, I<3.\n",
    "query(m_show(I, _)) :- generation(I), I>=0, I<3.\n",
    "query(m_family_descendant(I)) :- generation(I), I>0.\n",
    "query(f_family_descendant(I)) :- generation(I), I>0."
   ]
  },
  {
   "cell_type": "code",
   "execution_count": null,
   "id": "f4e57b8c",
   "metadata": {},
   "outputs": [
    {
     "name": "stdout",
     "output_type": "stream",
     "text": [
      "       disease(\"auto\"):\t0.33328889\n",
      "          disease(\"x\"):\t0.66671111\n",
      "       f_carry(0,\"AA\"):\t0.0001    \n",
      "       f_carry(0,\"Aa\"):\t0.9999    \n",
      "       f_carry(1,\"Aa\"):\t1         \n",
      "       f_carry(2,\"aa\"):\t1         \n",
      "       f_carry(3,\"Aa\"):\t1         \n",
      "f_family_descendant(1):\t1         \n",
      "f_family_descendant(3):\t1         \n",
      "         f_show(0,\"A\"):\t1         \n",
      "         f_show(1,\"A\"):\t1         \n",
      "         f_show(2,\"a\"):\t1         \n",
      "         f_show(3,\"A\"):\t1         \n",
      "       m_carry(0,\"a-\"):\t0.66671111\n",
      "       m_carry(0,\"aa\"):\t0.33328889\n",
      "       m_carry(1,\"a-\"):\t0.66671111\n",
      "       m_carry(1,\"aa\"):\t0.33328889\n",
      "       m_carry(2,\"A-\"):\t0.66671111\n",
      "       m_carry(2,\"Aa\"):\t0.33328889\n",
      "m_family_descendant(2):\t1         \n",
      "         m_show(0,\"a\"):\t1         \n",
      "         m_show(1,\"a\"):\t1         \n",
      "         m_show(2,\"A\"):\t1         \n",
      "\n"
     ]
    }
   ],
   "source": [
    "for line in str(output).split('\\n'):\n",
    "    if not line.strip().endswith(':\\t0'):\n",
    "        print(line)"
   ]
  },
  {
   "cell_type": "markdown",
   "id": "3ccd925c",
   "metadata": {},
   "source": [
    "#### Recessive"
   ]
  },
  {
   "cell_type": "code",
   "execution_count": null,
   "id": "761d9da3",
   "metadata": {},
   "outputs": [],
   "source": [
    "%%capture output\n",
    "%%script ./problog-cli.py --knowledge ddnnf --dont-propagate-evidence\n",
    "\n",
    ":- consult('mendelprob.pl').\n",
    "    \n",
    "%%% Prevalence of studied allele %%%\n",
    "prevalence(\"a\", 1/10000).\n",
    "                        \n",
    "%%% Define generations of interest %%%\n",
    "generation(I) :- between(0, 3, I), integer(I).\n",
    "    \n",
    "%%% Evidences %%%\n",
    "%evidence(disease(\"auto\")).\n",
    "evidence(f_show(0, \"a\")).\n",
    "evidence(m_show(0, \"A\")).\n",
    "evidence(f_show(1, \"a\")). \n",
    "evidence(m_show(1, \"A\")).\n",
    "evidence(m_show(2, \"a\")). \n",
    "evidence(f_show(2, \"A\")).\n",
    "evidence(f_show(3, \"a\")). \n",
    "evidence(f_family_descendant(1)).\n",
    "evidence(m_family_descendant(2)).\n",
    "evidence(f_family_descendant(3)).\n",
    "\n",
    "%%% Queries %%%\n",
    "query(disease(_)).\n",
    "query(f_carry(I, _)) :- generation(I), I>=0.\n",
    "query(f_show(I, _)) :- generation(I), I>=0.\n",
    "query(m_carry(I, _)) :- generation(I), I>=0, I<3.\n",
    "query(m_show(I, _)) :- generation(I), I>=0, I<3.\n",
    "query(m_family_descendant(I)) :- generation(I), I>0.\n",
    "query(f_family_descendant(I)) :- generation(I), I>0."
   ]
  },
  {
   "cell_type": "code",
   "execution_count": null,
   "id": "60855fdd",
   "metadata": {},
   "outputs": [
    {
     "name": "stdout",
     "output_type": "stream",
     "text": [
      "       disease(\"auto\"):\t1         \n",
      "       f_carry(0,\"aa\"):\t1         \n",
      "       f_carry(1,\"aa\"):\t1         \n",
      "       f_carry(2,\"Aa\"):\t1         \n",
      "       f_carry(3,\"aa\"):\t1         \n",
      "f_family_descendant(1):\t1         \n",
      "f_family_descendant(3):\t1         \n",
      "         f_show(0,\"a\"):\t1         \n",
      "         f_show(1,\"a\"):\t1         \n",
      "         f_show(2,\"A\"):\t1         \n",
      "         f_show(3,\"a\"):\t1         \n",
      "       m_carry(0,\"Aa\"):\t1         \n",
      "       m_carry(1,\"Aa\"):\t1         \n",
      "       m_carry(2,\"aa\"):\t1         \n",
      "m_family_descendant(2):\t1         \n",
      "         m_show(0,\"A\"):\t1         \n",
      "         m_show(1,\"A\"):\t1         \n",
      "         m_show(2,\"a\"):\t1         \n",
      "\n"
     ]
    }
   ],
   "source": [
    "for line in str(output).split('\\n'):\n",
    "    if not line.strip().endswith(':\\t0'):\n",
    "        print(line)"
   ]
  },
  {
   "cell_type": "markdown",
   "id": "6edd5301",
   "metadata": {},
   "source": [
    "### J"
   ]
  },
  {
   "cell_type": "code",
   "execution_count": null,
   "id": "f4fa4b11",
   "metadata": {},
   "outputs": [],
   "source": [
    "%%capture output\n",
    "%%script ./problog-cli.py --knowledge ddnnf --dont-propagate-evidence\n",
    "\n",
    ":- consult('mendelprob.pl').\n",
    "    \n",
    "%%% Prevalence of studied allele %%%\n",
    "prevalence(\"a\", 9999/10000).\n",
    "                        \n",
    "%%% Define generations of interest %%%\n",
    "generation(I) :- between(0, 3, I), integer(I).\n",
    "    \n",
    "%%% Evidences %%%\n",
    "%evidence(disease(\"auto\")).\n",
    "evidence(f_show(0, \"A\")).\n",
    "evidence(m_show(0, \"a\")).\n",
    "evidence(f_show(1, \"A\")). \n",
    "evidence(m_show(1, \"a\")).\n",
    "evidence(m_show(2, \"A\")). \n",
    "evidence(f_show(2, \"a\")).\n",
    "evidence(m_show(3, \"A\")). \n",
    "evidence(f_family_descendant(1)).\n",
    "evidence(m_family_descendant(2)).\n",
    "evidence(m_family_descendant(3)).\n",
    "\n",
    "%%% Queries %%%\n",
    "query(disease(_)).\n",
    "query(f_carry(I, _)) :- generation(I), I>=0, I<3.\n",
    "query(f_show(I, _)) :- generation(I), I>=0, I<3.\n",
    "query(m_carry(I, _)) :- generation(I), I>=0.\n",
    "query(m_show(I, _)) :- generation(I), I>=0.\n",
    "query(m_family_descendant(I)) :- generation(I), I>0.\n",
    "query(f_family_descendant(I)) :- generation(I), I>0."
   ]
  },
  {
   "cell_type": "code",
   "execution_count": null,
   "id": "d27785e2",
   "metadata": {},
   "outputs": [
    {
     "name": "stdout",
     "output_type": "stream",
     "text": [
      "       disease(\"auto\"):\t1         \n",
      "       f_carry(0,\"AA\"):\t0.0001    \n",
      "       f_carry(0,\"Aa\"):\t0.9999    \n",
      "       f_carry(1,\"Aa\"):\t1         \n",
      "       f_carry(2,\"aa\"):\t1         \n",
      "f_family_descendant(1):\t1         \n",
      "         f_show(0,\"A\"):\t1         \n",
      "         f_show(1,\"A\"):\t1         \n",
      "         f_show(2,\"a\"):\t1         \n",
      "       m_carry(0,\"aa\"):\t1         \n",
      "       m_carry(1,\"aa\"):\t1         \n",
      "       m_carry(2,\"Aa\"):\t1         \n",
      "       m_carry(3,\"Aa\"):\t1         \n",
      "m_family_descendant(2):\t1         \n",
      "m_family_descendant(3):\t1         \n",
      "         m_show(0,\"a\"):\t1         \n",
      "         m_show(1,\"a\"):\t1         \n",
      "         m_show(2,\"A\"):\t1         \n",
      "         m_show(3,\"A\"):\t1         \n",
      "\n"
     ]
    }
   ],
   "source": [
    "for line in str(output).split('\\n'):\n",
    "    if not line.strip().endswith(':\\t0'):\n",
    "        print(line)"
   ]
  },
  {
   "cell_type": "markdown",
   "id": "063a7406",
   "metadata": {},
   "source": [
    "#### Recessive"
   ]
  },
  {
   "cell_type": "code",
   "execution_count": null,
   "id": "dd54f036",
   "metadata": {},
   "outputs": [],
   "source": [
    "%%capture output\n",
    "%%script ./problog-cli.py --knowledge ddnnf --dont-propagate-evidence\n",
    "\n",
    ":- consult('mendelprob.pl').\n",
    "    \n",
    "%%% Prevalence of studied allele %%%\n",
    "prevalence(\"a\", 1/10000).\n",
    "                        \n",
    "%%% Define generations of interest %%%\n",
    "generation(I) :- between(0, 3, I), integer(I).\n",
    "    \n",
    "%%% Evidences %%%\n",
    "%evidence(disease(\"auto\")).\n",
    "evidence(f_show(0, \"a\")).\n",
    "evidence(m_show(0, \"A\")).\n",
    "evidence(f_show(1, \"a\")). \n",
    "evidence(m_show(1, \"A\")).\n",
    "evidence(m_show(2, \"a\")). \n",
    "evidence(f_show(2, \"A\")).\n",
    "evidence(m_show(3, \"a\")). \n",
    "evidence(f_family_descendant(1)).\n",
    "evidence(m_family_descendant(2)).\n",
    "evidence(m_family_descendant(3)).\n",
    "\n",
    "%%% Queries %%%\n",
    "query(disease(_)).\n",
    "query(f_carry(I, _)) :- generation(I), I>=0, I<3.\n",
    "query(f_show(I, _)) :- generation(I), I>=0, I<3.\n",
    "query(m_carry(I, _)) :- generation(I), I>=0.\n",
    "query(m_show(I, _)) :- generation(I), I>=0.\n",
    "query(m_family_descendant(I)) :- generation(I), I>0.\n",
    "query(f_family_descendant(I)) :- generation(I), I>0."
   ]
  },
  {
   "cell_type": "code",
   "execution_count": null,
   "id": "7152f259",
   "metadata": {},
   "outputs": [
    {
     "name": "stdout",
     "output_type": "stream",
     "text": [
      "       disease(\"auto\"):\t1         \n",
      "       f_carry(0,\"aa\"):\t1         \n",
      "       f_carry(1,\"aa\"):\t1         \n",
      "       f_carry(2,\"Aa\"):\t1         \n",
      "f_family_descendant(1):\t1         \n",
      "         f_show(0,\"a\"):\t1         \n",
      "         f_show(1,\"a\"):\t1         \n",
      "         f_show(2,\"A\"):\t1         \n",
      "       m_carry(0,\"Aa\"):\t1         \n",
      "       m_carry(1,\"Aa\"):\t1         \n",
      "       m_carry(2,\"aa\"):\t1         \n",
      "       m_carry(3,\"aa\"):\t1         \n",
      "m_family_descendant(2):\t1         \n",
      "m_family_descendant(3):\t1         \n",
      "         m_show(0,\"A\"):\t1         \n",
      "         m_show(1,\"A\"):\t1         \n",
      "         m_show(2,\"a\"):\t1         \n",
      "         m_show(3,\"a\"):\t1         \n",
      "\n"
     ]
    }
   ],
   "source": [
    "for line in str(output).split('\\n'):\n",
    "    if not line.strip().endswith(':\\t0'):\n",
    "        print(line)"
   ]
  },
  {
   "cell_type": "code",
   "execution_count": null,
   "id": "1cea37bd",
   "metadata": {},
   "outputs": [],
   "source": []
  },
  {
   "cell_type": "code",
   "execution_count": null,
   "id": "2ad29966",
   "metadata": {},
   "outputs": [],
   "source": []
  }
 ],
 "metadata": {
  "kernelspec": {
   "display_name": "Python 3 (ipykernel)",
   "language": "python",
   "name": "python3"
  },
  "language_info": {
   "codemirror_mode": {
    "name": "ipython",
    "version": 3
   },
   "file_extension": ".py",
   "mimetype": "text/x-python",
   "name": "python",
   "nbconvert_exporter": "python",
   "pygments_lexer": "ipython3",
   "version": "3.9.13"
  }
 },
 "nbformat": 4,
 "nbformat_minor": 5
}
